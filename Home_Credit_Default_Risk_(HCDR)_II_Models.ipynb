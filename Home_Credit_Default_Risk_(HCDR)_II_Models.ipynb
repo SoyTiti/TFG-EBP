{
  "cells": [
    {
      "cell_type": "markdown",
      "metadata": {
        "colab_type": "text",
        "id": "EWwbViL2h9zj"
      },
      "source": [
        "## Introduction\n",
        "\n",
        "**Home Credit** [http://www.homecredit.net/about-us.aspx], a service dedicated to provided lines of credit (loans) to the unbanked population, hosted a competition on Kaggle to see what sort of models the machine learning community can develop to predict whether or not a client will repay a loan. \n",
        "\n",
        "The following files were provided:\n",
        "\n",
        "* **application_train/application_test:** the main training and testing data with information about each loan application at Home Credit. Every loan has its own row and is identified by the feature `SK_ID_CURR`. The training application data comes with the `TARGET` indicating 0: the loan was repaid or 1: the loan was not repaid. \n",
        "* **bureau:** data concerning client's previous credits from other financial institutions. Each previous credit has its own row in bureau, but one loan in the application data can have multiple previous credits.\n",
        "* **bureau_balance**: monthly data about the previous credits in bureau. Each row is one month of a previous credit, and a single previous credit can have multiple rows, one for each month of the credit length. \n",
        "* **previous_application:** previous applications for loans at Home Credit of clients who have loans in the application data. Each current loan in the application data can have multiple previous loans. Each previous application has one row and is identified by the feature `SK_ID_PREV`. \n",
        "* **pos_cash_balance:** monthly data about previous point of sale or cash loans clients have had with Home Credit. Each row is one month of a previous point of sale or cash loan, and a single previous loan can have many rows.\n",
        "* **credit_card_balance:** monthly data about previous credit cards clients have had with Home Credit. Each row is one month of a credit card balance, and a single credit card can have many rows.\n",
        "* **installments_payment:** payment history for previous loans at Home Credit. There is one row for every made payment and one row for every missed payment.\n",
        "\n",
        "The following diagram shows the relationships among the different files:\n",
        "\n",
        "\n",
        "![image](https://storage.googleapis.com/kaggle-media/competitions/home-credit/home_credit.png)\n",
        "\n"
      ]
    },
    {
      "cell_type": "markdown",
      "metadata": {
        "colab_type": "text",
        "id": "h6OKx3XVWsRG"
      },
      "source": [
        "# Modelos \n",
        "\n",
        "* La entrada del proceso es el fichero \"hcdr.csv\" que es el resultado de aplicar todo el proceso EDA.\n",
        "\n",
        "* Este workbook presenta la siguiente estructura coforme los pasos que realizamos:\n",
        "\n",
        "    1. Importamos las librerías necesarias y cargamos los datos\n",
        "    2. Obtenemos un array de características 'X_train'. \n",
        "        - Tomamos todas las variables menos el Target y el id: SK_ID_CURR\n",
        "    3. Obtenemos un array con el target 'y_train'.\n",
        "    4. Normalizamos los datos y rellenamos los datos vacios con su mediana\n",
        "    5. Eliminamos variables altamente correlacionadas con otra variable\n",
        "    6. Realizamos análisis de PCA y lo aplicamos\n",
        "    7. Modelizamos:\n",
        "        - 7.1 Dividimos los datos en conjunto de Train y de Test\n",
        "        - 7.2 Creamos los modelos y evaluamos con Cross Validation\n",
        "        - 7.3 Evaluamos los modelos incorporando una visión de negocio"
      ]
    },
    {
      "cell_type": "markdown",
      "metadata": {
        "colab_type": "text",
        "id": "ZVIkGNtZWsRH"
      },
      "source": [
        "## 1. Importamos las librerías y cargamos los datos"
      ]
    },
    {
      "cell_type": "code",
      "execution_count": 15,
      "metadata": {},
      "outputs": [],
      "source": [
        "# numpy and pandas for data manipulation\n",
        "import numpy as np\n",
        "import pandas as pd \n",
        "\n",
        "\n",
        "# sklearn preprocessing for dealing with categorical variables\n",
        "from sklearn.preprocessing import LabelEncoder\n",
        "\n",
        "# sklearn preprocessing to impute missings and scale features \n",
        "from sklearn.preprocessing import MinMaxScaler\n",
        "from sklearn.impute import SimpleImputer\n",
        "\n",
        "# File system manangement\n",
        "import os\n",
        "\n",
        "# Suppress warnings \n",
        "import warnings\n",
        "warnings.filterwarnings('ignore')\n",
        "\n",
        "# matplotlib and seaborn for plotting\n",
        "import matplotlib.pyplot as plt\n",
        "import seaborn as sns\n",
        "\n",
        "# PCA\n",
        "from sklearn.decomposition import PCA\n",
        "\n",
        "#Gráfico de matriz de confusion\n",
        "import itertools\n",
        "\n",
        "# pivot table\n",
        "from pandas import pivot_table "
      ]
    },
    {
      "cell_type": "markdown",
      "metadata": {
        "colab_type": "text",
        "id": "9DhuIOqu4KVk"
      },
      "source": [
        "### Importamos datos\n",
        "Fuente del fichero: notebook **Home Credit Default Risk (HCDR) I**"
      ]
    },
    {
      "cell_type": "code",
      "execution_count": 16,
      "metadata": {
        "colab": {
          "base_uri": "https://localhost:8080/",
          "height": 253
        },
        "colab_type": "code",
        "id": "O-6lpovfiUmA",
        "outputId": "61679167-6f86-4d06-9a17-46ac3eedd1d5"
      },
      "outputs": [
        {
          "data": {
            "text/html": [
              "<div>\n",
              "<style scoped>\n",
              "    .dataframe tbody tr th:only-of-type {\n",
              "        vertical-align: middle;\n",
              "    }\n",
              "\n",
              "    .dataframe tbody tr th {\n",
              "        vertical-align: top;\n",
              "    }\n",
              "\n",
              "    .dataframe thead th {\n",
              "        text-align: right;\n",
              "    }\n",
              "</style>\n",
              "<table border=\"1\" class=\"dataframe\">\n",
              "  <thead>\n",
              "    <tr style=\"text-align: right;\">\n",
              "      <th></th>\n",
              "      <th>SK_ID_CURR</th>\n",
              "      <th>NAME_CONTRACT_TYPE</th>\n",
              "      <th>FLAG_OWN_CAR</th>\n",
              "      <th>FLAG_OWN_REALTY</th>\n",
              "      <th>CNT_CHILDREN</th>\n",
              "      <th>AMT_INCOME_TOTAL</th>\n",
              "      <th>AMT_CREDIT</th>\n",
              "      <th>AMT_ANNUITY</th>\n",
              "      <th>AMT_GOODS_PRICE</th>\n",
              "      <th>REGION_POPULATION_RELATIVE</th>\n",
              "      <th>...</th>\n",
              "      <th>WALLSMATERIAL_MODE_BLOCK</th>\n",
              "      <th>WALLSMATERIAL_MODE_MIXED</th>\n",
              "      <th>WALLSMATERIAL_MODE_MONOLITHIC</th>\n",
              "      <th>WALLSMATERIAL_MODE_OTHERS</th>\n",
              "      <th>WALLSMATERIAL_MODE_PANEL</th>\n",
              "      <th>WALLSMATERIAL_MODE_STONE_OR_BRICK</th>\n",
              "      <th>WALLSMATERIAL_MODE_WOODEN</th>\n",
              "      <th>EMERGENCYSTATE_MODE_NO</th>\n",
              "      <th>EMERGENCYSTATE_MODE_YES</th>\n",
              "      <th>TARGET</th>\n",
              "    </tr>\n",
              "  </thead>\n",
              "  <tbody>\n",
              "    <tr>\n",
              "      <th>0</th>\n",
              "      <td>100002</td>\n",
              "      <td>0</td>\n",
              "      <td>0</td>\n",
              "      <td>1</td>\n",
              "      <td>0</td>\n",
              "      <td>202500.0</td>\n",
              "      <td>406597.5</td>\n",
              "      <td>24700.5</td>\n",
              "      <td>351000.0</td>\n",
              "      <td>0.018801</td>\n",
              "      <td>...</td>\n",
              "      <td>False</td>\n",
              "      <td>False</td>\n",
              "      <td>False</td>\n",
              "      <td>False</td>\n",
              "      <td>False</td>\n",
              "      <td>True</td>\n",
              "      <td>False</td>\n",
              "      <td>True</td>\n",
              "      <td>False</td>\n",
              "      <td>1</td>\n",
              "    </tr>\n",
              "    <tr>\n",
              "      <th>1</th>\n",
              "      <td>100003</td>\n",
              "      <td>0</td>\n",
              "      <td>0</td>\n",
              "      <td>0</td>\n",
              "      <td>0</td>\n",
              "      <td>270000.0</td>\n",
              "      <td>1293502.5</td>\n",
              "      <td>35698.5</td>\n",
              "      <td>1129500.0</td>\n",
              "      <td>0.003541</td>\n",
              "      <td>...</td>\n",
              "      <td>True</td>\n",
              "      <td>False</td>\n",
              "      <td>False</td>\n",
              "      <td>False</td>\n",
              "      <td>False</td>\n",
              "      <td>False</td>\n",
              "      <td>False</td>\n",
              "      <td>True</td>\n",
              "      <td>False</td>\n",
              "      <td>0</td>\n",
              "    </tr>\n",
              "    <tr>\n",
              "      <th>2</th>\n",
              "      <td>100004</td>\n",
              "      <td>1</td>\n",
              "      <td>1</td>\n",
              "      <td>1</td>\n",
              "      <td>0</td>\n",
              "      <td>67500.0</td>\n",
              "      <td>135000.0</td>\n",
              "      <td>6750.0</td>\n",
              "      <td>135000.0</td>\n",
              "      <td>0.010032</td>\n",
              "      <td>...</td>\n",
              "      <td>False</td>\n",
              "      <td>False</td>\n",
              "      <td>False</td>\n",
              "      <td>False</td>\n",
              "      <td>False</td>\n",
              "      <td>False</td>\n",
              "      <td>False</td>\n",
              "      <td>False</td>\n",
              "      <td>False</td>\n",
              "      <td>0</td>\n",
              "    </tr>\n",
              "    <tr>\n",
              "      <th>3</th>\n",
              "      <td>100006</td>\n",
              "      <td>0</td>\n",
              "      <td>0</td>\n",
              "      <td>1</td>\n",
              "      <td>0</td>\n",
              "      <td>135000.0</td>\n",
              "      <td>312682.5</td>\n",
              "      <td>29686.5</td>\n",
              "      <td>297000.0</td>\n",
              "      <td>0.008019</td>\n",
              "      <td>...</td>\n",
              "      <td>False</td>\n",
              "      <td>False</td>\n",
              "      <td>False</td>\n",
              "      <td>False</td>\n",
              "      <td>False</td>\n",
              "      <td>False</td>\n",
              "      <td>False</td>\n",
              "      <td>False</td>\n",
              "      <td>False</td>\n",
              "      <td>0</td>\n",
              "    </tr>\n",
              "    <tr>\n",
              "      <th>4</th>\n",
              "      <td>100007</td>\n",
              "      <td>0</td>\n",
              "      <td>0</td>\n",
              "      <td>1</td>\n",
              "      <td>0</td>\n",
              "      <td>121500.0</td>\n",
              "      <td>513000.0</td>\n",
              "      <td>21865.5</td>\n",
              "      <td>513000.0</td>\n",
              "      <td>0.028663</td>\n",
              "      <td>...</td>\n",
              "      <td>False</td>\n",
              "      <td>False</td>\n",
              "      <td>False</td>\n",
              "      <td>False</td>\n",
              "      <td>False</td>\n",
              "      <td>False</td>\n",
              "      <td>False</td>\n",
              "      <td>False</td>\n",
              "      <td>False</td>\n",
              "      <td>0</td>\n",
              "    </tr>\n",
              "  </tbody>\n",
              "</table>\n",
              "<p>5 rows × 687 columns</p>\n",
              "</div>"
            ],
            "text/plain": [
              "   SK_ID_CURR  NAME_CONTRACT_TYPE  FLAG_OWN_CAR  FLAG_OWN_REALTY  \\\n",
              "0      100002                   0             0                1   \n",
              "1      100003                   0             0                0   \n",
              "2      100004                   1             1                1   \n",
              "3      100006                   0             0                1   \n",
              "4      100007                   0             0                1   \n",
              "\n",
              "   CNT_CHILDREN  AMT_INCOME_TOTAL  AMT_CREDIT  AMT_ANNUITY  AMT_GOODS_PRICE  \\\n",
              "0             0          202500.0    406597.5      24700.5         351000.0   \n",
              "1             0          270000.0   1293502.5      35698.5        1129500.0   \n",
              "2             0           67500.0    135000.0       6750.0         135000.0   \n",
              "3             0          135000.0    312682.5      29686.5         297000.0   \n",
              "4             0          121500.0    513000.0      21865.5         513000.0   \n",
              "\n",
              "   REGION_POPULATION_RELATIVE  ...  WALLSMATERIAL_MODE_BLOCK  \\\n",
              "0                    0.018801  ...                     False   \n",
              "1                    0.003541  ...                      True   \n",
              "2                    0.010032  ...                     False   \n",
              "3                    0.008019  ...                     False   \n",
              "4                    0.028663  ...                     False   \n",
              "\n",
              "   WALLSMATERIAL_MODE_MIXED  WALLSMATERIAL_MODE_MONOLITHIC  \\\n",
              "0                     False                          False   \n",
              "1                     False                          False   \n",
              "2                     False                          False   \n",
              "3                     False                          False   \n",
              "4                     False                          False   \n",
              "\n",
              "   WALLSMATERIAL_MODE_OTHERS  WALLSMATERIAL_MODE_PANEL  \\\n",
              "0                      False                     False   \n",
              "1                      False                     False   \n",
              "2                      False                     False   \n",
              "3                      False                     False   \n",
              "4                      False                     False   \n",
              "\n",
              "   WALLSMATERIAL_MODE_STONE_OR_BRICK  WALLSMATERIAL_MODE_WOODEN  \\\n",
              "0                               True                      False   \n",
              "1                              False                      False   \n",
              "2                              False                      False   \n",
              "3                              False                      False   \n",
              "4                              False                      False   \n",
              "\n",
              "   EMERGENCYSTATE_MODE_NO  EMERGENCYSTATE_MODE_YES  TARGET  \n",
              "0                    True                    False       1  \n",
              "1                    True                    False       0  \n",
              "2                   False                    False       0  \n",
              "3                   False                    False       0  \n",
              "4                   False                    False       0  \n",
              "\n",
              "[5 rows x 687 columns]"
            ]
          },
          "execution_count": 16,
          "metadata": {},
          "output_type": "execute_result"
        }
      ],
      "source": [
        "app_train = pd.read_csv('hcdr.csv')\n",
        "\n",
        "app_train.head(5)"
      ]
    },
    {
      "cell_type": "markdown",
      "metadata": {
        "colab_type": "text",
        "id": "2gpCZTXudjsx"
      },
      "source": [
        "## 2. Obtenemos un array de características 'X_train' y otro con el Target 'y_train'"
      ]
    },
    {
      "cell_type": "code",
      "execution_count": 17,
      "metadata": {
        "colab": {},
        "colab_type": "code",
        "id": "5VmiE0HRWsRY"
      },
      "outputs": [],
      "source": [
        "# Creamos el conjunto de datos de entrenamiento X_train eliminando las columnas TARGET (variable objetivo) \n",
        "# y SK_ID_CURR (identificador) del dataframe app_train\n",
        "X_train = app_train.drop(columns = ['TARGET','SK_ID_CURR']) \n"
      ]
    },
    {
      "cell_type": "markdown",
      "metadata": {
        "colab_type": "text",
        "id": "g89zukMVWsRa"
      },
      "source": [
        "## 3. Obtenemos un array con el Target 'y_train'"
      ]
    },
    {
      "cell_type": "code",
      "execution_count": 18,
      "metadata": {
        "colab": {},
        "colab_type": "code",
        "id": "8Q7Kp2CfWsRb"
      },
      "outputs": [],
      "source": [
        "# Creamos el array y_train con la variable objetivo (TARGET) del dataframe app_train\n",
        "y_train = app_train['TARGET']"
      ]
    },
    {
      "cell_type": "markdown",
      "metadata": {
        "colab_type": "text",
        "id": "clrb9bBeWsRd"
      },
      "source": [
        "## 4. Normalizamos los datos e imputamos los datos nulos / ausentes con su mediana"
      ]
    },
    {
      "cell_type": "code",
      "execution_count": 19,
      "metadata": {},
      "outputs": [],
      "source": [
        "X_train = X_train.astype('float32')\n"
      ]
    },
    {
      "cell_type": "code",
      "execution_count": 20,
      "metadata": {
        "colab": {},
        "colab_type": "code",
        "id": "5C3wBkMhJEF3"
      },
      "outputs": [],
      "source": [
        "# Obtiene los nombres de las características/variables\n",
        "features = list(X_train.columns)\n",
        "\n",
        "# La elección entre media y mediana depende de la distribución de los datos:\n",
        "# - Media: mejor para distribuciones normales/simétricas\n",
        "# - Mediana: mejor para distribuciones sesgadas y datos con valores atípicos\n",
        "# En este caso, como tenemos datos financieros que suelen tener valores atípicos,\n",
        "# la mediana es una mejor opción ya que es más robusta a outliers\n",
        "\n",
        "# Crea un imputador para reemplazar valores nulos con la mediana de cada columna\n",
        "imputer = SimpleImputer(missing_values=np.nan, strategy='median')\n",
        "\n",
        "# Ajusta el imputador con los datos de entrenamiento\n",
        "imputer.fit(X_train)\n",
        "\n",
        "# Transforma los datos reemplazando los valores nulos con la mediana\n",
        "X_train = imputer.transform(X_train)\n",
        "\n",
        "# Crea un escalador para normalizar los valores entre 0 y 1\n",
        "scaler = MinMaxScaler(feature_range=(0, 1))\n",
        "\n",
        "# Ajusta el escalador y transforma los datos para normalizarlos\n",
        "scaler.fit(X_train)\n",
        "X_train = scaler.transform(X_train)"
      ]
    },
    {
      "cell_type": "code",
      "execution_count": 21,
      "metadata": {
        "colab": {
          "base_uri": "https://localhost:8080/",
          "height": 34
        },
        "colab_type": "code",
        "id": "OKluTE_kTVfN",
        "outputId": "bf0bb2ad-34c7-4927-fcc4-1820ddeafb45"
      },
      "outputs": [
        {
          "data": {
            "text/plain": [
              "(307511, 685)"
            ]
          },
          "execution_count": 21,
          "metadata": {},
          "output_type": "execute_result"
        }
      ],
      "source": [
        "# Muestro las dimensiones (número de filas y columnas) del conjunto de datos X_train\n",
        "X_train.shape"
      ]
    },
    {
      "cell_type": "markdown",
      "metadata": {
        "colab_type": "text",
        "id": "r2mFXLj1WsRn"
      },
      "source": [
        "## 5. Eliminamos variables altamente correlacionadas con otra variable"
      ]
    },
    {
      "cell_type": "code",
      "execution_count": 22,
      "metadata": {},
      "outputs": [
        {
          "name": "stdout",
          "output_type": "stream",
          "text": [
            "   SK_ID_CURR  NAME_CONTRACT_TYPE  FLAG_OWN_CAR  FLAG_OWN_REALTY  \\\n",
            "0      100002                   0             0                1   \n",
            "1      100003                   0             0                0   \n",
            "2      100004                   1             1                1   \n",
            "3      100006                   0             0                1   \n",
            "4      100007                   0             0                1   \n",
            "\n",
            "   CNT_CHILDREN  AMT_INCOME_TOTAL  AMT_CREDIT  AMT_ANNUITY  AMT_GOODS_PRICE  \\\n",
            "0             0          202500.0    406597.5      24700.5         351000.0   \n",
            "1             0          270000.0   1293502.5      35698.5        1129500.0   \n",
            "2             0           67500.0    135000.0       6750.0         135000.0   \n",
            "3             0          135000.0    312682.5      29686.5         297000.0   \n",
            "4             0          121500.0    513000.0      21865.5         513000.0   \n",
            "\n",
            "   REGION_POPULATION_RELATIVE  ...  WALLSMATERIAL_MODE_BLOCK  \\\n",
            "0                    0.018801  ...                     False   \n",
            "1                    0.003541  ...                      True   \n",
            "2                    0.010032  ...                     False   \n",
            "3                    0.008019  ...                     False   \n",
            "4                    0.028663  ...                     False   \n",
            "\n",
            "   WALLSMATERIAL_MODE_MIXED  WALLSMATERIAL_MODE_MONOLITHIC  \\\n",
            "0                     False                          False   \n",
            "1                     False                          False   \n",
            "2                     False                          False   \n",
            "3                     False                          False   \n",
            "4                     False                          False   \n",
            "\n",
            "   WALLSMATERIAL_MODE_OTHERS  WALLSMATERIAL_MODE_PANEL  \\\n",
            "0                      False                     False   \n",
            "1                      False                     False   \n",
            "2                      False                     False   \n",
            "3                      False                     False   \n",
            "4                      False                     False   \n",
            "\n",
            "   WALLSMATERIAL_MODE_STONE_OR_BRICK  WALLSMATERIAL_MODE_WOODEN  \\\n",
            "0                               True                      False   \n",
            "1                              False                      False   \n",
            "2                              False                      False   \n",
            "3                              False                      False   \n",
            "4                              False                      False   \n",
            "\n",
            "   EMERGENCYSTATE_MODE_NO  EMERGENCYSTATE_MODE_YES  TARGET  \n",
            "0                    True                    False       1  \n",
            "1                    True                    False       0  \n",
            "2                   False                    False       0  \n",
            "3                   False                    False       0  \n",
            "4                   False                    False       0  \n",
            "\n",
            "[5 rows x 687 columns]\n",
            "Dimensiones de X_train: (307511, 685)\n",
            "Columnas seleccionadas tras eliminar las variables altamente correlacionadas:\n",
            "Index(['NAME_CONTRACT_TYPE', 'FLAG_OWN_CAR', 'FLAG_OWN_REALTY', 'CNT_CHILDREN',\n",
            "       'AMT_INCOME_TOTAL', 'AMT_CREDIT', 'AMT_ANNUITY',\n",
            "       'REGION_POPULATION_RELATIVE', 'DAYS_BIRTH', 'DAYS_EMPLOYED',\n",
            "       ...\n",
            "       'HOUSETYPE_MODE_SPECIFIC_HOUSING', 'HOUSETYPE_MODE_TERRACED_HOUSE',\n",
            "       'WALLSMATERIAL_MODE_BLOCK', 'WALLSMATERIAL_MODE_MIXED',\n",
            "       'WALLSMATERIAL_MODE_MONOLITHIC', 'WALLSMATERIAL_MODE_OTHERS',\n",
            "       'WALLSMATERIAL_MODE_PANEL', 'WALLSMATERIAL_MODE_STONE_OR_BRICK',\n",
            "       'WALLSMATERIAL_MODE_WOODEN', 'EMERGENCYSTATE_MODE_YES'],\n",
            "      dtype='object', length=479)\n",
            "Número de columnas mantenidas: 479\n",
            "\n",
            "Las 15 variables con mayor correlación (valor absoluto) con el target:\n",
            "EXT_SOURCE_AVG                                 0.173322\n",
            "EXT_SOURCE_2                                   0.160295\n",
            "EXT_SOURCE_3                                   0.155892\n",
            "DAYS_BIRTH                                     0.078239\n",
            "CREDIT_GOODS_PERCENT                           0.069398\n",
            "PREVIOUS_NAME_CONTRACT_STATUS_REFUSED_COUNT    0.064756\n",
            "DAYS_EMPLOYED                                  0.063368\n",
            "PREVIOUS_NAME_PRODUCT_TYPE_WALK_IN_COUNT       0.062785\n",
            "REGION_RATING_CLIENT                           0.058899\n",
            "NAME_INCOME_TYPE_WORKING                       0.057481\n",
            "NAME_EDUCATION_TYPE_HIGHER_EDUCATION           0.056593\n",
            "PREVIOUS_CODE_REJECT_REASON_SCOFR_COUNT        0.055622\n",
            "DAYS_LAST_PHONE_CHANGE                         0.055218\n",
            "CODE_GENDER_M                                  0.054713\n",
            "CODE_GENDER_F                                  0.054704\n",
            "dtype: float64\n",
            "\n",
            "Correlaciones (con signo) de las mejores 15 variables:\n",
            "EXT_SOURCE_AVG                                -0.173322\n",
            "EXT_SOURCE_2                                  -0.160295\n",
            "EXT_SOURCE_3                                  -0.155892\n",
            "DAYS_BIRTH                                    -0.078239\n",
            "CREDIT_GOODS_PERCENT                           0.069398\n",
            "PREVIOUS_NAME_CONTRACT_STATUS_REFUSED_COUNT    0.064756\n",
            "DAYS_EMPLOYED                                  0.063368\n",
            "PREVIOUS_NAME_PRODUCT_TYPE_WALK_IN_COUNT       0.062785\n",
            "REGION_RATING_CLIENT                           0.058899\n",
            "NAME_INCOME_TYPE_WORKING                       0.057481\n",
            "NAME_EDUCATION_TYPE_HIGHER_EDUCATION          -0.056593\n",
            "PREVIOUS_CODE_REJECT_REASON_SCOFR_COUNT        0.055622\n",
            "DAYS_LAST_PHONE_CHANGE                         0.055218\n",
            "CODE_GENDER_M                                  0.054713\n",
            "CODE_GENDER_F                                 -0.054704\n",
            "dtype: float64\n"
          ]
        }
      ],
      "source": [
        "import pandas as pd\n",
        "import numpy as np\n",
        "from sklearn.impute import SimpleImputer\n",
        "from sklearn.preprocessing import MinMaxScaler\n",
        "\n",
        "# -------------------- Lectura y preprocesado de datos --------------------\n",
        "# Se lee el archivo CSV\n",
        "app_train = pd.read_csv('hcdr.csv')\n",
        "\n",
        "# Mostrar las primeras 5 filas (opcional)\n",
        "print(app_train.head(5))\n",
        "\n",
        "# Crear el conjunto de entrenamiento eliminando las columnas TARGET (objetivo) y SK_ID_CURR (identificador)\n",
        "X_train = app_train.drop(columns=['TARGET','SK_ID_CURR'])\n",
        "y_train = app_train['TARGET']\n",
        "\n",
        "# Convertir X_train a float32\n",
        "X_train = X_train.astype('float32')\n",
        "\n",
        "# Guardar los nombres de las variables (columnas)\n",
        "features = list(X_train.columns)\n",
        "\n",
        "# Imputar valores nulos con la mediana de cada columna (dado que los datos financieros suelen tener outliers)\n",
        "imputer = SimpleImputer(missing_values=np.nan, strategy='median')\n",
        "imputer.fit(X_train)\n",
        "X_train = imputer.transform(X_train)\n",
        "\n",
        "# Escalar los datos para normalizarlos en el rango [0,1]\n",
        "scaler = MinMaxScaler(feature_range=(0, 1))\n",
        "scaler.fit(X_train)\n",
        "X_train = scaler.transform(X_train)\n",
        "\n",
        "# Verificar las dimensiones de X_train (por ejemplo, (n_filas, n_columnas))\n",
        "print(\"Dimensiones de X_train:\", X_train.shape)\n",
        "\n",
        "# -------------------- Parte 1: Eliminación de variables altamente correlacionadas --------------------\n",
        "# Convertir X_train (que actualmente es un array de NumPy) a DataFrame y asignar los nombres originales de columnas\n",
        "X_train = pd.DataFrame(X_train, columns=features)\n",
        "\n",
        "# Calcular la matriz de correlación entre todas las variables\n",
        "corr = X_train.corr()\n",
        "\n",
        "# Crear un array booleano inicializado a True para marcar las columnas a mantener\n",
        "columns_bool = np.full((corr.shape[0],), True, dtype=bool)\n",
        "\n",
        "# Recorrer la matriz triangular superior de correlaciones para identificar variables altamente correlacionadas\n",
        "for i in range(corr.shape[0]):\n",
        "    for j in range(i + 1, corr.shape[0]):\n",
        "        # Si se encuentra correlación mayor o igual a 0.8\n",
        "        if corr.iloc[i, j] >= 0.8:\n",
        "            # Marca la segunda variable para eliminarla (si aún no se ha marcado)\n",
        "            if columns_bool[j]:\n",
        "                columns_bool[j] = False\n",
        "\n",
        "# Seleccionar las columnas a mantener (según la máscara booleana)\n",
        "selected_columns = X_train.columns[columns_bool]\n",
        "\n",
        "# Determinar las columnas eliminadas (aquellas no marcadas)\n",
        "eliminated_columns = X_train.columns[~columns_bool]\n",
        "\n",
        "# Actualizar X_train conservando solo las columnas seleccionadas\n",
        "X_train = X_train[selected_columns]\n",
        "\n",
        "# Mostrar las columnas que se mantuvieron y la cantidad\n",
        "print(\"Columnas seleccionadas tras eliminar las variables altamente correlacionadas:\")\n",
        "print(selected_columns)\n",
        "print(f\"Número de columnas mantenidas: {len(selected_columns)}\")\n",
        "\n",
        "# ---------------------- Guardar en Excel los resultados ----------------------\n",
        "# Crear un DataFrame para las variables mantenidas con una columna denominada \"variables\"\n",
        "df_mantenidas = pd.DataFrame(selected_columns, columns=[\"variables\"])\n",
        "\n",
        "# Crear un DataFrame para las variables eliminadas con una columna denominada \"variables\"\n",
        "df_eliminadas = pd.DataFrame(eliminated_columns, columns=[\"variables\"])\n",
        "\n",
        "# Exportar ambos DataFrames a archivos Excel sin incluir el índice\n",
        "df_mantenidas.to_excel(\"variables_mantenidas.xlsx\", index=False)\n",
        "df_eliminadas.to_excel(\"variables_eliminadas.xlsx\", index=False)\n",
        "\n",
        "# -------------------- Parte 2: Seleccionar las 15 variables con mayor correlación con el target --------------------\n",
        "# Asegurarse de que y_train esté definido, convirtiéndolo a Serie en caso de ser necesario\n",
        "y_train = pd.Series(y_train)\n",
        "\n",
        "# Calcular la correlación de cada variable (en X_train) con el target\n",
        "cor_target = X_train.apply(lambda col: col.corr(y_train))\n",
        "\n",
        "# Ordenar la correlación en valor absoluto de mayor a menor\n",
        "cor_target_abs = cor_target.abs().sort_values(ascending=False)\n",
        "\n",
        "# Seleccionar las 15 mejores variables según la correlación absoluta con el target\n",
        "top_15 = cor_target_abs.head(15)\n",
        "\n",
        "print(\"\\nLas 15 variables con mayor correlación (valor absoluto) con el target:\")\n",
        "print(top_15)\n",
        "\n",
        "# Mostrar también la correlación con signo (dirección de la correlación) para esas 15 variables\n",
        "print(\"\\nCorrelaciones (con signo) de las mejores 15 variables:\")\n",
        "print(cor_target[top_15.index])\n"
      ]
    },
    {
      "cell_type": "markdown",
      "metadata": {
        "colab_type": "text",
        "id": "mnYMx00NM7bt"
      },
      "source": [
        "## 6. PCA - Análisis de componentes principales"
      ]
    },
    {
      "cell_type": "code",
      "execution_count": 23,
      "metadata": {
        "colab": {
          "base_uri": "https://localhost:8080/",
          "height": 54
        },
        "colab_type": "code",
        "id": "_wD2nezOYi6Q",
        "outputId": "f03d23dc-c192-4158-c49c-a604d6c1fdf4"
      },
      "outputs": [
        {
          "name": "stdout",
          "output_type": "stream",
          "text": [
            "['0.0637', '0.1111', '0.1562', '0.1972', '0.2350', '0.2696', '0.2997', '0.3266', '0.3517', '0.3759', '0.3979', '0.4194', '0.4404', '0.4606', '0.4802', '0.4972', '0.5138', '0.5302', '0.5460', '0.5616', '0.5771', '0.5919', '0.6054', '0.6185', '0.6310', '0.6429', '0.6542', '0.6652', '0.6758', '0.6861', '0.6960', '0.7058', '0.7145', '0.7231', '0.7310', '0.7385', '0.7455', '0.7525', '0.7592', '0.7654', '0.7711', '0.7767', '0.7821', '0.7874', '0.7926', '0.7977', '0.8027', '0.8076', '0.8124', '0.8173', '0.8220', '0.8266', '0.8312', '0.8357', '0.8401', '0.8443', '0.8485', '0.8524', '0.8562', '0.8600', '0.8636', '0.8670', '0.8703', '0.8735', '0.8766', '0.8796', '0.8826', '0.8856', '0.8884', '0.8912', '0.8937', '0.8961', '0.8984', '0.9008', '0.9030', '0.9052', '0.9073', '0.9094', '0.9114', '0.9134', '0.9154', '0.9172', '0.9190', '0.9207', '0.9224', '0.9241', '0.9258', '0.9275', '0.9291', '0.9307', '0.9322', '0.9336', '0.9351', '0.9365', '0.9378', '0.9392', '0.9405', '0.9417', '0.9429', '0.9441', '0.9452', '0.9464', '0.9475', '0.9485', '0.9495', '0.9506', '0.9515', '0.9525', '0.9534', '0.9543', '0.9552', '0.9561', '0.9570', '0.9578', '0.9587', '0.9595', '0.9603', '0.9611', '0.9619', '0.9627', '0.9635', '0.9642', '0.9650', '0.9657', '0.9664', '0.9671', '0.9678', '0.9685', '0.9692', '0.9699', '0.9705', '0.9712', '0.9718', '0.9725', '0.9731', '0.9737', '0.9743', '0.9749', '0.9755', '0.9761', '0.9766', '0.9772', '0.9776', '0.9781', '0.9786', '0.9791', '0.9795', '0.9799', '0.9803', '0.9807', '0.9811', '0.9815', '0.9819', '0.9823', '0.9826', '0.9830', '0.9833', '0.9837', '0.9840', '0.9844', '0.9847', '0.9850', '0.9853', '0.9856', '0.9860', '0.9863', '0.9866', '0.9868', '0.9871', '0.9874', '0.9877', '0.9879', '0.9882', '0.9884', '0.9887', '0.9889', '0.9891', '0.9893', '0.9895', '0.9897', '0.9899', '0.9901', '0.9903', '0.9905', '0.9907', '0.9909', '0.9910', '0.9912', '0.9914', '0.9916', '0.9917', '0.9919', '0.9920', '0.9922', '0.9924', '0.9925', '0.9927', '0.9928', '0.9930', '0.9931', '0.9932', '0.9934', '0.9935', '0.9936', '0.9938', '0.9939', '0.9940', '0.9941', '0.9942', '0.9943', '0.9945', '0.9946', '0.9947', '0.9948', '0.9949', '0.9950', '0.9951', '0.9952', '0.9953', '0.9954', '0.9955', '0.9956', '0.9957', '0.9958', '0.9959', '0.9959', '0.9960', '0.9961', '0.9962', '0.9963', '0.9963', '0.9964', '0.9965', '0.9966', '0.9966', '0.9967', '0.9968', '0.9968', '0.9969', '0.9969', '0.9970', '0.9971', '0.9971', '0.9972', '0.9972', '0.9973', '0.9973', '0.9974', '0.9974', '0.9975', '0.9975', '0.9976', '0.9976', '0.9977', '0.9977', '0.9977', '0.9978', '0.9978', '0.9979', '0.9979', '0.9979', '0.9980', '0.9980', '0.9981', '0.9981', '0.9981', '0.9982', '0.9982', '0.9982', '0.9983', '0.9983', '0.9983', '0.9984', '0.9984', '0.9984', '0.9985', '0.9985', '0.9985', '0.9986', '0.9986', '0.9986', '0.9987', '0.9987', '0.9987', '0.9987', '0.9988', '0.9988', '0.9988', '0.9988', '0.9989', '0.9989', '0.9989', '0.9989', '0.9990', '0.9990', '0.9990', '0.9990', '0.9990', '0.9991', '0.9991', '0.9991', '0.9991', '0.9991', '0.9992', '0.9992', '0.9992', '0.9992', '0.9992', '0.9993', '0.9993', '0.9993', '0.9993', '0.9993', '0.9993', '0.9994', '0.9994', '0.9994', '0.9994', '0.9994', '0.9994', '0.9994', '0.9995', '0.9995', '0.9995', '0.9995', '0.9995', '0.9995', '0.9995', '0.9995', '0.9996', '0.9996', '0.9996', '0.9996', '0.9996', '0.9996', '0.9996', '0.9996', '0.9996', '0.9996', '0.9997', '0.9997', '0.9997', '0.9997', '0.9997', '0.9997', '0.9997', '0.9997', '0.9997', '0.9997', '0.9997', '0.9997', '0.9998', '0.9998', '0.9998', '0.9998', '0.9998', '0.9998', '0.9998', '0.9998', '0.9998', '0.9998', '0.9998', '0.9998', '0.9998', '0.9998', '0.9998', '0.9998', '0.9998', '0.9998', '0.9999', '0.9999', '0.9999', '0.9999', '0.9999', '0.9999', '0.9999', '0.9999', '0.9999', '0.9999', '0.9999', '0.9999', '0.9999', '0.9999', '0.9999', '0.9999', '0.9999', '0.9999', '0.9999', '0.9999', '0.9999', '0.9999', '0.9999', '0.9999', '0.9999', '0.9999', '0.9999', '0.9999', '1.0000', '1.0000', '1.0000', '1.0000', '1.0000', '1.0000', '1.0000', '1.0000', '1.0000', '1.0000', '1.0000', '1.0000', '1.0000', '1.0000', '1.0000', '1.0000', '1.0000', '1.0000', '1.0000', '1.0000', '1.0000', '1.0000', '1.0000', '1.0000', '1.0000', '1.0000', '1.0000', '1.0000', '1.0000', '1.0000', '1.0000', '1.0000', '1.0000', '1.0000', '1.0000', '1.0000', '1.0000', '1.0000', '1.0000', '1.0000', '1.0000', '1.0000', '1.0000', '1.0000', '1.0000', '1.0000', '1.0000', '1.0000', '1.0000', '1.0000', '1.0000', '1.0000', '1.0000', '1.0000', '1.0000', '1.0000', '1.0000', '1.0000', '1.0000', '1.0000', '1.0000', '1.0000', '1.0000', '1.0000', '1.0000', '1.0000', '1.0000', '1.0000', '1.0000', '1.0000', '1.0000', '1.0000', '1.0000', '1.0000', '1.0000', '1.0000', '1.0000', '1.0000', '1.0000', '1.0000', '1.0000', '1.0000']\n"
          ]
        }
      ],
      "source": [
        "# PCA\n",
        "\n",
        "# Importamos PCA de sklearn.decomposition\n",
        "from sklearn.decomposition import PCA\n",
        "\n",
        "# Creamos un objeto PCA sin especificar número de componentes y lo ajustamos a los datos, Al llamar a .fit(X_train), el modelo PCA se ajusta a los datos en X_train, y se calculan las componentes principales.\n",
        "pca = PCA().fit(X_train)\n",
        "\n",
        "# Calculamos la varianza acumulada sumando los ratios de varianza explicada para ver qué porcentaje de la variabilidad total de los datos es explicada por cada componente principal acumulativamente\n",
        "varianza_acum = np.cumsum(pca.explained_variance_ratio_)\n",
        "\n",
        "# Imprimimos los valores de varianza acumulada formateados a 4 decimales\n",
        "print(['{:.4f}'.format(i) for i in varianza_acum])\n"
      ]
    },
    {
      "cell_type": "markdown",
      "metadata": {},
      "source": [
        "Diagrama de codo"
      ]
    },
    {
      "cell_type": "code",
      "execution_count": 24,
      "metadata": {},
      "outputs": [
        {
          "data": {
            "image/png": "[encoded data removed]",
            "text/plain": [
              "<Figure size 640x480 with 1 Axes>"
            ]
          },
          "metadata": {},
          "output_type": "display_data"
        }
      ],
      "source": [
        "import matplotlib.pyplot as plt\n",
        "\n",
        "plt.plot(range(1, len(varianza_acum) + 1), varianza_acum, marker='o')\n",
        "plt.xlabel('Número de componentes principales')\n",
        "plt.ylabel('Varianza acumulada explicada')\n",
        "plt.title('Curva de codo')\n",
        "plt.grid()\n",
        "plt.show()"
      ]
    },
    {
      "cell_type": "code",
      "execution_count": 25,
      "metadata": {
        "colab": {
          "base_uri": "https://localhost:8080/",
          "height": 392
        },
        "colab_type": "code",
        "id": "gYccGpqkYi6W",
        "outputId": "baf4586c-d109-4df7-8ed9-07e89f544abc"
      },
      "outputs": [
        {
          "data": {
            "image/png": "[encoded data removed]",
            "text/plain": [
              "<Figure size 800x600 with 1 Axes>"
            ]
          },
          "metadata": {},
          "output_type": "display_data"
        }
      ],
      "source": [
        "#dibujamos el PCA obtenido \n",
        "\n",
        "fig, eje = plt.subplots(figsize=(8,6))\n",
        "eje.plot(varianza_acum)\n",
        "eje.set_xlabel('Nº componentes')\n",
        "eje.set_xlabel('Varianza acumulada')\n",
        "\n",
        "eje.grid()\n",
        "eje.plot(41,0.8010, 'ro') # componente i + 1\n",
        "eje.plot(66,0.9011, 'ro') # componente i + 1\n",
        "eje.plot(94,0.9500, 'ro') # componente i + 1\n",
        "eje.plot(165,0.990, 'ro') # componente i + 1\n",
        "plt.xlim(0,250)\n",
        "plt.show()\n"
      ]
    },
    {
      "cell_type": "code",
      "execution_count": 26,
      "metadata": {
        "colab": {
          "base_uri": "https://localhost:8080/",
          "height": 34
        },
        "colab_type": "code",
        "id": "qTd2GDKLYi6c",
        "outputId": "f65a50f9-4fbd-4a3c-d604-a38038b03c52"
      },
      "outputs": [
        {
          "data": {
            "text/plain": [
              "(307511, 166)"
            ]
          },
          "execution_count": 26,
          "metadata": {},
          "output_type": "execute_result"
        }
      ],
      "source": [
        "# Seleccionamos 166 componentes para recoger > 99% de la varianza explicada\n",
        "# Creamos un objeto PCA especificando que queremos 166 componentes principales\n",
        "pca = PCA(n_components = 166)\n",
        "\n",
        "# Aplicamos la transformación PCA a los datos de entrenamiento:\n",
        "# - fit: Calcula la matriz de covarianza y los componentes principales\n",
        "# - transform: Proyecta los datos originales en el nuevo espacio de componentes principales\n",
        "X_train = pca.fit_transform(X_train)\n",
        "\n",
        "# Mostramos la forma (dimensiones) del conjunto de datos transformado\n",
        "X_train.shape\n"
      ]
    },
    {
      "cell_type": "markdown",
      "metadata": {},
      "source": [
        "### **BUSQUEDA VARIABLES IMPORTANTES**"
      ]
    },
    {
      "cell_type": "code",
      "execution_count": 13,
      "metadata": {},
      "outputs": [
        {
          "name": "stdout",
          "output_type": "stream",
          "text": [
            "Las 20 variables con mayor importancia:\n",
            "                                    variable  importance\n",
            "74                            EXT_SOURCE_AVG    0.019939\n",
            "29                              EXT_SOURCE_2    0.016404\n",
            "30                              EXT_SOURCE_3    0.016261\n",
            "9                                 DAYS_BIRTH    0.007886\n",
            "10                             DAYS_EMPLOYED    0.007233\n",
            "12                           DAYS_ID_PUBLISH    0.007121\n",
            "73                     DAYS_EMPLOYED_PERCENT    0.006936\n",
            "11                         DAYS_REGISTRATION    0.006626\n",
            "72                               CREDIT_TERM    0.006517\n",
            "71                    ANNUITY_INCOME_PERCENT    0.006380\n",
            "321   PREVIOUS_DAYS_LAST_DUE_1ST_VERSION_MAX    0.006161\n",
            "70                      CREDIT_GOODS_PERCENT    0.006141\n",
            "69                     CREDIT_INCOME_PERCENT    0.006009\n",
            "6                                AMT_ANNUITY    0.005684\n",
            "320  PREVIOUS_DAYS_LAST_DUE_1ST_VERSION_MEAN    0.005666\n",
            "79                         INSTALMENT_INDEX_    0.005641\n",
            "80                    INSTALMENT_SK_ID_CURR_    0.005615\n",
            "323   PREVIOUS_DAYS_LAST_DUE_1ST_VERSION_SUM    0.005561\n",
            "75                         INCOME_PER_PERSON    0.005369\n",
            "42                    DAYS_LAST_PHONE_CHANGE    0.005312\n"
          ]
        },
        {
          "data": {
            "image/png": "[encoded data removed]",
            "text/plain": [
              "<Figure size 1000x600 with 1 Axes>"
            ]
          },
          "metadata": {},
          "output_type": "display_data"
        }
      ],
      "source": [
        "import pandas as pd\n",
        "import numpy as np\n",
        "from sklearn.model_selection import train_test_split\n",
        "from sklearn.ensemble import RandomForestClassifier  \n",
        "from sklearn.impute import SimpleImputer\n",
        "from sklearn.preprocessing import StandardScaler\n",
        "import matplotlib.pyplot as plt\n",
        "import seaborn as sns\n",
        "\n",
        "# --------------------------- CARGA Y PREPROCESAMIENTO ---------------------------\n",
        "\n",
        "# Cargar los datos (asegúrate de tener el CSV en la ruta correcta)\n",
        "app_train = pd.read_csv('hcdr.csv')\n",
        "\n",
        "# Eliminar columnas que no se usan para las predicciones (identificador y variable objetivo)\n",
        "X = app_train.drop(columns=['TARGET', 'SK_ID_CURR'])\n",
        "y = app_train['TARGET']\n",
        "\n",
        "# Si hay valores nulos, se imputan con la mediana (estrategia robusta para datos con outliers)\n",
        "imputer = SimpleImputer(strategy='median')\n",
        "X_imputed = imputer.fit_transform(X)\n",
        "\n",
        "# Escalar los datos \n",
        "scaler = StandardScaler()\n",
        "X_scaled = scaler.fit_transform(X_imputed)\n",
        "\n",
        "# Para conservar los nombres originales de las variables\n",
        "features = X.columns\n",
        "\n",
        "# Dividir en entrenamiento y prueba (por ejemplo, 70% entrenamiento, 30% prueba)\n",
        "X_train, X_test, y_train, y_test = train_test_split(X_scaled, y, test_size=0.3, random_state=42)\n",
        "\n",
        "# --------------------------- ENTRENAMIENTO DEL MODELO ---------------------------\n",
        "\n",
        "# Definir y entrenar el clasificador RandomForest\n",
        "rf_model = RandomForestClassifier(n_estimators=100, random_state=42)\n",
        "rf_model.fit(X_train, y_train)\n",
        "\n",
        "# --------------------------- EXTRAER IMPORTANCIA DE VARIABLES ---------------------------\n",
        "\n",
        "# Obtener la importancia de cada variable del modelo\n",
        "importances = rf_model.feature_importances_\n",
        "\n",
        "# Crear un DataFrame con las variables y su importancia\n",
        "df_importance = pd.DataFrame({\n",
        "    'variable': features,\n",
        "    'importance': importances\n",
        "})\n",
        "\n",
        "# Ordenar de mayor a menor importancia\n",
        "df_importance = df_importance.sort_values(by='importance', ascending=False)\n",
        "\n",
        "# Mostrar las 20 variables más importantes\n",
        "print(\"Las 20 variables con mayor importancia:\")\n",
        "print(df_importance.head(20))\n",
        "\n",
        "# --------------------------- PLOTEAR LAS IMPORTANCIAS ---------------------------\n",
        "\n",
        "plt.figure(figsize=(10, 6))\n",
        "sns.barplot(x='importance', y='variable', data=df_importance.head(20))\n",
        "plt.title(\"Top 20 variables por importancia\")\n",
        "plt.xlabel(\"Importancia\")\n",
        "plt.ylabel(\"Variable\")\n",
        "plt.tight_layout()\n",
        "plt.show()\n"
      ]
    },
    {
      "cell_type": "markdown",
      "metadata": {
        "colab_type": "text",
        "id": "9dlpD_iqYi6u"
      },
      "source": [
        "## 7. Modelización"
      ]
    },
    {
      "cell_type": "markdown",
      "metadata": {
        "colab_type": "text",
        "id": "dnb2dm1Rx1C7"
      },
      "source": [
        "### 7.1 Dividimos los datos en entramiento 80% y test 20%"
      ]
    },
    {
      "cell_type": "code",
      "execution_count": 27,
      "metadata": {
        "colab": {},
        "colab_type": "code",
        "id": "6s-CrOtKWsSF"
      },
      "outputs": [],
      "source": [
        "from sklearn.model_selection import train_test_split\n",
        "\n",
        "M_X_train, X_test, M_y_train, y_test = train_test_split(X_train, y_train, test_size=0.2)"
      ]
    },
    {
      "cell_type": "markdown",
      "metadata": {
        "colab_type": "text",
        "id": "gOi_jHZ-WsSK"
      },
      "source": [
        "### 7.2 Creamos los modelos y evaluamos con Cross Validation"
      ]
    },
    {
      "cell_type": "code",
      "execution_count": null,
      "metadata": {},
      "outputs": [],
      "source": [
        "# model\n",
        "\n",
        "from sklearn.model_selection import train_test_split\n",
        "from sklearn.model_selection import KFold\n",
        "\n",
        "from sklearn.model_selection import cross_val_score\n",
        "from sklearn.model_selection import cross_val_predict\n",
        "\n",
        "from sklearn.metrics import classification_report\n",
        "from sklearn.metrics import confusion_matrix\n",
        "from sklearn.metrics import accuracy_score\n",
        "from sklearn.metrics import precision_score\n",
        "from sklearn.metrics import recall_score\n",
        "from sklearn.pipeline import Pipeline\n",
        "\n",
        "from sklearn.linear_model import LogisticRegression\n",
        "from sklearn.tree import DecisionTreeClassifier\n",
        "from sklearn.neighbors import KNeighborsClassifier\n",
        "from sklearn.naive_bayes import GaussianNB\n",
        "from sklearn.svm import SVC\n",
        "\n",
        "from sklearn.ensemble import RandomForestClassifier\n",
        "from sklearn.neural_network import MLPClassifier\n",
        "import lightgbm as lgbm\n",
        "from lightgbm import LGBMClassifier\n",
        "\n",
        "import time\n",
        "\n",
        "# Using Cross Validation to find a good model\n",
        "num_folds = 5\n",
        "seed = 0\n",
        "models = []\n",
        "\n",
        "# Models\n",
        "\n",
        "models.append(('RF_bal', RandomForestClassifier(random_state=0, n_estimators = 100, criterion = 'entropy')))  \n",
        "\n",
        "models.append(('LGBM_weight', LGBMClassifier(objective = 'binary', scale_pos_weight = 0.5,\n",
        "                learning_rate = 0.05, \n",
        "                reg_alpha = 0.1, reg_lambda = 0.1, \n",
        "                n_jobs = -1, random_state = 50, boosting = 'gbdt', n_estimators = 500)))\n",
        "\n",
        "models.append(('LGBM_gbdt', LGBMClassifier(objective = 'binary', bagging_fraction = 0.8, boosting = 'gbdt', n_estimators = 150, num_leaves = 25, max_depth = 35, min_data_in_leaf = 100)))\n",
        "\n",
        "models.append(('LR', LogisticRegression(solver = 'newton-cg', random_state=1)))\n",
        "\n",
        "models.append(('MLP128log', MLPClassifier(hidden_layer_sizes=(128,), random_state=1, activation='logistic', solver='lbfgs')))\n",
        "models.append(('MLP128tanh', MLPClassifier(hidden_layer_sizes=(128,), random_state=1, activation='tanh', solver='sgd')))\n",
        "\n",
        "# Corregido: Reemplazado min_impurity_split por min_impurity_decrease\n",
        "models.append(('DTC25_125E', DecisionTreeClassifier(criterion = 'gini', min_impurity_decrease = 1e-05, random_state=0, min_samples_split=10, max_depth = 25, max_leaf_nodes = 125)))\n",
        "\n",
        "models.append(('GNB', GaussianNB()))\n",
        "\n",
        "# iterate over models and print cross val scores\n",
        "results = []\n",
        "names = []\n",
        "\n",
        "print('Please wait while models train..')\n",
        "for name, model in models:\n",
        "\n",
        "  # start timer\n",
        "  start = time.time()\n",
        "\n",
        "  print ('EVALUANDO: {clas}'.format(clas=name))\n",
        "\n",
        "  with warnings.catch_warnings():\n",
        "    warnings.filterwarnings(\"ignore\")\n",
        "\n",
        "    # Cross Validation y distintos evaluadores\n",
        "    # Modificado: Añadido shuffle=True para poder usar random_state\n",
        "    kfold = KFold(n_splits=num_folds, shuffle=True, random_state=seed)\n",
        "    \n",
        "    cv_results = cross_val_score(model, M_X_train, M_y_train, cv=kfold, scoring='roc_auc')\n",
        "    \n",
        "    predicciones = cross_val_predict(model, M_X_train, M_y_train, cv=kfold)\n",
        "    \n",
        "    # evaluadores\n",
        "    reporte = (classification_report(M_y_train, predicciones,digits=4))\n",
        "    \n",
        "    print('{}  :  {}'.format('roc_auc',cv_results.mean()))\n",
        "    print()      \n",
        "    print(reporte)\n",
        "    \n",
        "    \n",
        "    matriz_conf = confusion_matrix(M_y_train, predicciones)\n",
        "    print()\n",
        "    print(matriz_conf)\n",
        "        \n",
        "  names.append(name)\n",
        "  results.append(cv_results)\n",
        "    \n",
        "  end = time.time()\n",
        "  time_run = (end - start)/60\n",
        "\n",
        "  print('{time} minutos'.format(time = time_run))\n",
        "  print()\n",
        "  print()\n",
        "  print()"
      ]
    },
    {
      "cell_type": "markdown",
      "metadata": {
        "colab_type": "text",
        "id": "wmtxzj2lyJ4D"
      },
      "source": [
        "\n",
        "\n",
        "### 7.3 Evaluamos los modelos incorporando una visión de negocio\n",
        "\n"
      ]
    },
    {
      "cell_type": "markdown",
      "metadata": {
        "colab_type": "text",
        "id": "539G0Uu9ya89"
      },
      "source": [
        "Función para matriz (confusión y de ganancias)"
      ]
    },
    {
      "cell_type": "code",
      "execution_count": 32,
      "metadata": {
        "colab": {},
        "colab_type": "code",
        "id": "ikBSJT7BybHD"
      },
      "outputs": [],
      "source": [
        "def plot_confusion_matrix(cm, classes, title, cmap=plt.cm.Greens):\n",
        "    \"\"\"\n",
        "    This function prints and plots the confusion matrix.\n",
        "    \"\"\"\n",
        "    plt.imshow(cm, interpolation='nearest', cmap=cmap)\n",
        "    plt.title(title)\n",
        "    plt.colorbar()\n",
        "    tick_marks = np.arange(len(classes))\n",
        "    plt.xticks(tick_marks, classes, rotation=45)\n",
        "    plt.yticks(tick_marks, classes)\n",
        "\n",
        "    thresh = cm.max() / 2.\n",
        "    for i, j in itertools.product(range(cm.shape[0]), range(cm.shape[1])):\n",
        "        plt.text(j, i, format(cm[i, j]), horizontalalignment=\"center\",\n",
        "                 color=\"white\" if cm[i, j] > thresh else \"black\")\n",
        "\n",
        "    plt.tight_layout()\n",
        "    plt.ylabel('True label')\n",
        "    plt.xlabel('Predicted label')\n",
        "    \n",
        "    "
      ]
    },
    {
      "cell_type": "markdown",
      "metadata": {
        "colab_type": "text",
        "id": "27UzfO69hGQc"
      },
      "source": [
        "Evaluamos los modelos"
      ]
    },
    {
      "cell_type": "code",
      "execution_count": null,
      "metadata": {
        "colab": {
          "base_uri": "https://localhost:8080/",
          "height": 5105
        },
        "colab_type": "code",
        "id": "1bOLFMfOCjc0",
        "outputId": "abd6b6cc-3775-4be5-85cf-d72933ca371d"
      },
      "outputs": [],
      "source": [
        "# model\n",
        "\n",
        "from sklearn.model_selection import train_test_split\n",
        "from sklearn.model_selection import KFold\n",
        "\n",
        "from sklearn.model_selection import cross_val_score\n",
        "from sklearn.model_selection import cross_val_predict\n",
        "\n",
        "from sklearn.metrics import classification_report\n",
        "from sklearn.metrics import confusion_matrix\n",
        "from sklearn.metrics import accuracy_score\n",
        "from sklearn.metrics import precision_score\n",
        "from sklearn.metrics import recall_score\n",
        "from sklearn.pipeline import Pipeline\n",
        "\n",
        "from sklearn.linear_model import LogisticRegression\n",
        "from sklearn.tree import DecisionTreeClassifier\n",
        "from sklearn.neighbors import KNeighborsClassifier\n",
        "from sklearn.naive_bayes import GaussianNB\n",
        "from sklearn.svm import SVC\n",
        "\n",
        "from sklearn.ensemble import RandomForestClassifier\n",
        "from sklearn.neural_network import MLPClassifier\n",
        "import lightgbm as lgbm\n",
        "from lightgbm import LGBMClassifier\n",
        "\n",
        "import time\n",
        "\n",
        "num_folds = 5\n",
        "seed = 0\n",
        "evaluacion = list()\n",
        "  \n",
        "for name, model in models:\n",
        "\n",
        "    # start timer\n",
        "    start = time.time()\n",
        "\n",
        "    print ('EVALUANDO: {clas}'.format(clas=name))\n",
        "\n",
        "    with warnings.catch_warnings():\n",
        "      warnings.filterwarnings(\"ignore\")\n",
        "\n",
        "      # Cross Validation y distintos evaluadores\n",
        "      kfold = KFold(n_splits=num_folds, random_state=seed)\n",
        "\n",
        "      # predicciones sobre el fichero completo\n",
        "      model.fit(X_train, y_train)\n",
        "      predicciones = model.predict(X_train)\n",
        "      \n",
        "    # pintamos matriz de ganancias / pérdidas\n",
        "\n",
        "    classes=['Sí paga', 'No paga']\n",
        "    fig, ax = plt.subplots(figsize=(12,8))\n",
        "    plt.subplot(2,2,1)\n",
        "\n",
        "    #ganancia de cada posibilidad de estimaciones\n",
        "    tab_pred = pd.DataFrame(predicciones)\n",
        "    join = tab_pred.merge(app_train, left_index=True, right_index=True)\n",
        "    join = join.rename(index=str, columns={0: \"PREDICCION\"})\n",
        "    join = join[['AMT_CREDIT','TARGET','PREDICCION']]\n",
        "    \n",
        "    from pandas import pivot_table \n",
        "    agg_credit = join.groupby(['TARGET', 'PREDICCION'])['AMT_CREDIT'].agg(['sum', 'count'])\n",
        "\n",
        "    agg_sum = np.round(pivot_table(agg_credit, values='sum', index=['TARGET'], columns=['PREDICCION'], aggfunc=np.sum)/1e+06,0)\n",
        "    agg_count = pivot_table(agg_credit, values='count', index=['TARGET'], columns=['PREDICCION'], aggfunc=np.sum)\n",
        "\n",
        "    np.set_printoptions(formatter={'float_kind':'{:f}'.format})\n",
        "    agg_sum = agg_sum.values\n",
        "    agg_count = agg_count.values\n",
        "\n",
        "    plot_confusion_matrix(agg_count, classes=classes, title='Matriz de confusion - train total')\n",
        "    plt.tight_layout()\n",
        "    plt.show()\n",
        "\n",
        "    plot_confusion_matrix(agg_sum, classes=classes, title='Matriz de ganancias / pérdidas')\n",
        "    plt.tight_layout()\n",
        "    plt.show()\n",
        "\n",
        "      # stop timing\n",
        "      \n",
        "    end = time.time()\n",
        "    time_run = (end - start)/60\n",
        "    print('{time} minutos'.format(time = time_run))\n",
        "\n"
      ]
    }
  ],
  "metadata": {
    "accelerator": "GPU",
    "colab": {
      "collapsed_sections": [],
      "name": "Home_Credit_Default_Risk_(HCDR)_II_v_10_0.ipynb",
      "provenance": [],
      "toc_visible": true,
      "version": "0.3.2"
    },
    "kernelspec": {
      "display_name": "perla_env",
      "language": "python",
      "name": "python3"
    },
    "language_info": {
      "codemirror_mode": {
        "name": "ipython",
        "version": 3
      },
      "file_extension": ".py",
      "mimetype": "text/x-python",
      "name": "python",
      "nbconvert_exporter": "python",
      "pygments_lexer": "ipython3",
      "version": "3.12.7"
    }
  },
  "nbformat": 4,
  "nbformat_minor": 0
}
